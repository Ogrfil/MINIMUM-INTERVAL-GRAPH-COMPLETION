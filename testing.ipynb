{
 "cells": [
  {
   "cell_type": "code",
   "execution_count": 1,
   "id": "c312f884-b2e6-4918-9656-c8be26decd6e",
   "metadata": {},
   "outputs": [],
   "source": [
    "import time\n",
    "from matplotlib import pyplot as plt\n",
    "import networkx as nx"
   ]
  },
  {
   "cell_type": "code",
   "execution_count": 2,
   "id": "d5cd6930-8adc-49f9-ae17-46844ef246b1",
   "metadata": {},
   "outputs": [],
   "source": [
    "import sage.all\n",
    "from sage.graphs.graph import Graph"
   ]
  },
  {
   "cell_type": "raw",
   "id": "dffb0168-7f6a-4302-aa06-ae43c936d720",
   "metadata": {},
   "source": [
    "    \"g1\": [(0, 1), (1, 2), (2, 3), (3, 0)],\n",
    "    \"g2\": [(0, 1), (1, 2), (2, 3), (3, 4)],\n",
    "    \"g3\": [(0, 1), (1, 2), (2, 3), (3, 4), (0, 2)],\n",
    "    \"g4\": [(1, 2), (2, 3), (2, 5), (2, 6), (3, 4), (5, 6)],"
   ]
  },
  {
   "cell_type": "raw",
   "id": "0c974ff7-d77b-4372-897c-90046d92b628",
   "metadata": {},
   "source": [
    "    \"i1\": [(0, 1), (1, 2), (2, 3)],\n",
    "    \"i2\": [(0, 1), (0, 2), (0, 3), (0, 4)],\n",
    "    \"i3\": [(0, 1), (1, 2), (2, 0)],\n",
    "    \"i4\": [(0, 1), (1, 2), (2, 3)],\n",
    "    \"i5\": [(0, 1), (0, 2), (1, 2), (1, 3), (2, 3)],\n",
    "    \"i6\": [(0, 1), (0, 3), (0, 6), (1, 2), (1, 3), (1, 4), (1, 6), (2, 4), (2, 6), (3, 4), (3, 5), (3, 6), (4, 5), (4, 6), (5, 6), (6, 7)],   "
   ]
  },
  {
   "cell_type": "raw",
   "id": "58d0b573-3384-4d16-88f8-da0643a88345",
   "metadata": {},
   "source": [
    "\"gA\": [(0, 1), (1, 2), (1, 5), (2, 3), (2, 6), (3, 4), (3, 7), (5, 6), (6, 7), (7, 8)]\n",
    "\"gB\": [(0, 1), (0, 3), (0, 6), (1, 2), (1, 3), (1, 4), (1, 6), (2, 4), (2, 6), (3, 4), (3, 5), (3, 6), (4, 5), (6, 7)]"
   ]
  },
  {
   "cell_type": "code",
   "execution_count": 3,
   "id": "ec5073a7-a6b1-422e-83fe-0617912074b3",
   "metadata": {},
   "outputs": [],
   "source": [
    "graphs = {\n",
    "    \"g1\": [(0, 1), (1, 2), (2, 3), (3, 0)],\n",
    "    \"g2\": [(0, 1), (1, 2), (2, 3), (3, 4)],\n",
    "    \"g3\": [(0, 1), (1, 2), (2, 3), (3, 4), (0, 2)],\n",
    "    \"g4\": [(1, 2), (2, 3), (2, 5), (2, 6), (3, 4), (5, 6)],\n",
    "    \"i1\": [(0, 1), (1, 2), (2, 3)],\n",
    "    \"i2\": [(0, 1), (0, 2), (0, 3), (0, 4)],\n",
    "    \"i3\": [(0, 1), (1, 2), (2, 0)],\n",
    "    \"i4\": [(0, 1), (1, 2), (2, 3)],\n",
    "    \"i5\": [(0, 1), (0, 2), (1, 2), (1, 3), (2, 3)],\n",
    "    \"i6\": [(0, 1), (0, 3), (0, 6), (1, 2), (1, 3), (1, 4), (1, 6), (2, 4), (2, 6), (3, 4), (3, 5), (3, 6), (4, 5), (4, 6), (5, 6), (6, 7)]\n",
    "}"
   ]
  },
  {
   "cell_type": "code",
   "execution_count": null,
   "id": "4f3818f7-b425-4a09-9920-e57c2370615d",
   "metadata": {},
   "outputs": [],
   "source": []
  }
 ],
 "metadata": {
  "kernelspec": {
   "display_name": "SageMath 9.5",
   "language": "sage",
   "name": "sagemath"
  },
  "language_info": {
   "codemirror_mode": {
    "name": "ipython",
    "version": 3
   },
   "file_extension": ".py",
   "mimetype": "text/x-python",
   "name": "python",
   "nbconvert_exporter": "python",
   "pygments_lexer": "ipython3",
   "version": "3.10.12"
  }
 },
 "nbformat": 4,
 "nbformat_minor": 5
}
